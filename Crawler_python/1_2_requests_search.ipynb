{
 "cells": [
  {
   "cell_type": "markdown",
   "id": "5ea96731",
   "metadata": {},
   "source": [
    "# 安装\n",
    "需要提前安装 pip install requests"
   ]
  },
  {
   "cell_type": "code",
   "execution_count": null,
   "id": "77db86a9",
   "metadata": {},
   "outputs": [],
   "source": [
    "import requests"
   ]
  },
  {
   "cell_type": "code",
   "execution_count": null,
   "id": "b03251b6",
   "metadata": {},
   "outputs": [],
   "source": [
    "query=input(\"输入想要搜索的内容\")"
   ]
  },
  {
   "cell_type": "code",
   "execution_count": null,
   "id": "b797f5e0",
   "metadata": {},
   "outputs": [],
   "source": [
    "url=f'https://www.sogou.com/web?query={query}'\n",
    "head ={'User-Agent':'Mozilla/5.0 (Windows NT 10.0; Win64; x64; rv:97.0) Gecko/20100101 Firefox/97.0'}\n",
    "response=requests.get(url,headers=head) #headers 一个反爬操作\n",
    "print(response)\n",
    "print(response.text)"
   ]
  },
  {
   "cell_type": "code",
   "execution_count": null,
   "id": "953d2f46",
   "metadata": {},
   "outputs": [],
   "source": [
    "response.close()"
   ]
  }
 ],
 "metadata": {
  "kernelspec": {
   "display_name": "Python 3 (ipykernel)",
   "language": "python",
   "name": "python3"
  },
  "language_info": {
   "codemirror_mode": {
    "name": "ipython",
    "version": 3
   },
   "file_extension": ".py",
   "mimetype": "text/x-python",
   "name": "python",
   "nbconvert_exporter": "python",
   "pygments_lexer": "ipython3",
   "version": "3.8.10"
  }
 },
 "nbformat": 4,
 "nbformat_minor": 5
}
