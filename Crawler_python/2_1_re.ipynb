{
 "cells": [
  {
   "cell_type": "markdown",
   "id": "355c8fb2",
   "metadata": {},
   "source": [
    "# 数据解析\n",
    "前面用爬虫可以爬取页面，但是页面杂乱，无法拿到想要的信息，所以需要对数据进行解析  \n",
    "常用的三种解析方法：  \n",
    "* re (regular expression)\n",
    "* bs4\n",
    "* xpath"
   ]
  },
  {
   "cell_type": "markdown",
   "id": "bfd8b774",
   "metadata": {},
   "source": [
    "# re\n",
    "## 常用的元字符  \n",
    ". 匹配除了换行意外的所有字符  \n",
    "\\w 匹配字母数字或下划线  \n",
    "（更多元字符可自行搜索）  \n",
    "测试正则表达式可搜索\"正则表达式在线测试\"\n",
    "## 量词(加在元字符后面)\n",
    "重复0次或更多次 *  \n",
    "重复一次以上 +  \n",
    "重复零次或一次 ?  \n",
    "重复n次 {n}  \n",
    "重复n次以上 {n,}  \n",
    "重复n到m次 {n,m}  "
   ]
  },
  {
   "cell_type": "code",
   "execution_count": 1,
   "id": "62810bbe",
   "metadata": {},
   "outputs": [],
   "source": [
    "import re"
   ]
  },
  {
   "cell_type": "code",
   "execution_count": 2,
   "id": "f105393f",
   "metadata": {},
   "outputs": [
    {
     "name": "stdout",
     "output_type": "stream",
     "text": [
      "['153163', '352']\n"
     ]
    }
   ],
   "source": [
    "lst=re.findall(r\"\\d+\",\"我的电话是153163，他的电话是352\") #查找所有匹配的\n",
    "print(lst)"
   ]
  },
  {
   "cell_type": "code",
   "execution_count": 5,
   "id": "c282c725",
   "metadata": {},
   "outputs": [
    {
     "name": "stdout",
     "output_type": "stream",
     "text": [
      "<re.Match object; span=(5, 11), match='153163'>\n",
      "153163\n",
      "<re.Match object; span=(17, 20), match='352'>\n",
      "352\n"
     ]
    }
   ],
   "source": [
    "it = re.finditer(r\"\\d+\",\"我的电话是153163，他的电话是352\")\n",
    "for i in it:\n",
    "    print(i)\n",
    "    print(i.group())"
   ]
  },
  {
   "cell_type": "code",
   "execution_count": 6,
   "id": "e6d0b0f3",
   "metadata": {},
   "outputs": [
    {
     "name": "stdout",
     "output_type": "stream",
     "text": [
      "<re.Match object; span=(5, 11), match='153163'>\n",
      "153163\n"
     ]
    }
   ],
   "source": [
    "s = re.search(r\"\\d+\",\"我的电话是153163，他的电话是352\") #只搜索一个\n",
    "print(s)\n",
    "print(s.group())"
   ]
  },
  {
   "cell_type": "code",
   "execution_count": 8,
   "id": "7fc12137",
   "metadata": {},
   "outputs": [
    {
     "name": "stdout",
     "output_type": "stream",
     "text": [
      "None\n",
      "<re.Match object; span=(0, 3), match='153'>\n",
      "153\n"
     ]
    }
   ],
   "source": [
    "m=re.match(r\"\\d+\",\"我的电话是153163，他的电话是352\") #从头开始匹配\n",
    "print(m)\n",
    "m=re.match(r\"\\d+\",\"153,我的电话是153163，他的电话是352\")\n",
    "print(m)\n",
    "print(m.group())"
   ]
  },
  {
   "cell_type": "code",
   "execution_count": 11,
   "id": "1437cab8",
   "metadata": {},
   "outputs": [
    {
     "name": "stdout",
     "output_type": "stream",
     "text": [
      "['153163', '352']\n"
     ]
    }
   ],
   "source": [
    "# 正则预加载\n",
    "obj = re.compile(r\"\\d+\")\n",
    "ret=obj.findall(\"我的电话是153163，他的电话是352\")\n",
    "print(ret)"
   ]
  },
  {
   "cell_type": "code",
   "execution_count": 17,
   "id": "eed3f45e",
   "metadata": {},
   "outputs": [
    {
     "name": "stdout",
     "output_type": "stream",
     "text": [
      "['<div>i</div>', '<div>yi</div>', '<div>hang</div>']\n",
      "i\n",
      "yi\n",
      "hang\n"
     ]
    }
   ],
   "source": [
    "info=\"\"\"\n",
    "<div>i</div>\n",
    "<div>yi</div>\n",
    "<div>hang</div>\n",
    "\"\"\"\n",
    "obj=re.compile(r\"<div>.*?</div>\",re.S) #re.S 让.可以匹配换行符\n",
    "ret=obj.findall(info)\n",
    "print(ret)\n",
    "\n",
    "obj=re.compile(r\"<div>(?P<name>.*?)</div>\",re.S) #(?P<组名>)\n",
    "ret=obj.finditer(info)\n",
    "for i in ret:\n",
    "    print(i.group(\"name\"))\n"
   ]
  }
 ],
 "metadata": {
  "kernelspec": {
   "display_name": "Python 3 (ipykernel)",
   "language": "python",
   "name": "python3"
  },
  "language_info": {
   "codemirror_mode": {
    "name": "ipython",
    "version": 3
   },
   "file_extension": ".py",
   "mimetype": "text/x-python",
   "name": "python",
   "nbconvert_exporter": "python",
   "pygments_lexer": "ipython3",
   "version": "3.8.10"
  }
 },
 "nbformat": 4,
 "nbformat_minor": 5
}
