{
 "cells": [
  {
   "cell_type": "code",
   "execution_count": 1,
   "id": "e9e9ab89",
   "metadata": {},
   "outputs": [],
   "source": [
    "import requests"
   ]
  },
  {
   "cell_type": "code",
   "execution_count": 2,
   "id": "7be7a8ed",
   "metadata": {},
   "outputs": [],
   "source": [
    "url=\"https://fanyi.baidu.com/sug\""
   ]
  },
  {
   "cell_type": "code",
   "execution_count": 3,
   "id": "388c31a0",
   "metadata": {},
   "outputs": [
    {
     "name": "stdout",
     "output_type": "stream",
     "text": [
      "输入要翻译的内容response\n"
     ]
    }
   ],
   "source": [
    "a=input('输入要翻译的内容')"
   ]
  },
  {
   "cell_type": "code",
   "execution_count": 5,
   "id": "d866ca69",
   "metadata": {},
   "outputs": [],
   "source": [
    "data1={\n",
    "    'kw':a\n",
    "}"
   ]
  },
  {
   "cell_type": "code",
   "execution_count": 6,
   "id": "f9cb7370",
   "metadata": {},
   "outputs": [],
   "source": [
    "resp=requests.post(url,data=data1)"
   ]
  },
  {
   "cell_type": "code",
   "execution_count": 10,
   "id": "49e86182",
   "metadata": {},
   "outputs": [
    {
     "name": "stdout",
     "output_type": "stream",
     "text": [
      "{'errno': 0, 'data': [{'k': 'response', 'v': 'n. 反应; 回答，答复; [宗]回应经文，应唱圣歌'}, {'k': 'responser', 'v': 'n. 响应器; （雷达）应答器; 回答器; 询问机'}, {'k': 'responses', 'v': 'n. 回答; 反应( response的名词复数 ); （礼拜仪式中的）答唱咏; [基督教]（礼拜仪'}, {'k': 'response to', 'v': '对…的反应'}, {'k': 'response bias', 'v': '反应偏向'}]}\n"
     ]
    }
   ],
   "source": [
    "print(resp.json())"
   ]
  },
  {
   "cell_type": "raw",
   "id": "db1ce779",
   "metadata": {},
   "source": [
    "resp.close()"
   ]
  }
 ],
 "metadata": {
  "kernelspec": {
   "display_name": "Python 3 (ipykernel)",
   "language": "python",
   "name": "python3"
  },
  "language_info": {
   "codemirror_mode": {
    "name": "ipython",
    "version": 3
   },
   "file_extension": ".py",
   "mimetype": "text/x-python",
   "name": "python",
   "nbconvert_exporter": "python",
   "pygments_lexer": "ipython3",
   "version": "3.8.10"
  }
 },
 "nbformat": 4,
 "nbformat_minor": 5
}
